{
 "cells": [
  {
   "cell_type": "markdown",
   "metadata": {},
   "source": [
    "# Deep Learning for NLP - Project"
   ]
  },
  {
   "cell_type": "markdown",
   "metadata": {},
   "source": [
    "RULES:\n",
    "\n",
    "* Do not create any additional cell\n",
    "\n",
    "* Fill in the blanks\n",
    "\n",
    "* All cells should be runnable (modulo trivial compatibility bugs that we'd fix)\n",
    "\n",
    "* 4 / 20 points will be allocated to the clarity of your code\n",
    "\n",
    "* Efficient code will have a bonus\n",
    "\n",
    "DELIVERABLE:\n",
    "\n",
    "* this notebook\n",
    "* the predictions of the SST test set\n",
    "\n",
    "DO NOT INCLUDE THE DATASETS IN THE DELIVERABLE.."
   ]
  },
  {
   "cell_type": "code",
   "execution_count": 1,
   "metadata": {},
   "outputs": [],
   "source": [
    "import io\n",
    "import os\n",
    "import numpy as np\n",
    "import scipy\n",
    "import operator\n",
    "import math"
   ]
  },
  {
   "cell_type": "code",
   "execution_count": 2,
   "metadata": {},
   "outputs": [],
   "source": [
    "PATH_TO_DATA = \"/Users/Jean/Desktop/Deep Learning/nlp_project/data/\""
   ]
  },
  {
   "cell_type": "markdown",
   "metadata": {},
   "source": [
    "# 1) Monolingual (English) word embeddings "
   ]
  },
  {
   "cell_type": "code",
   "execution_count": 3,
   "metadata": {},
   "outputs": [],
   "source": [
    "class Word2vec():\n",
    "    def __init__(self, fname, nmax=100000):\n",
    "        self.load_wordvec(fname, nmax)\n",
    "        self.word2id = dict.fromkeys(self.word2vec.keys())\n",
    "        self.id2word = {v: k for k, v in self.word2id.items()}\n",
    "        self.embeddings = np.array(self.word2vec.values())\n",
    "    \n",
    "    def load_wordvec(self, fname, nmax):\n",
    "        self.word2vec = {}\n",
    "        with io.open(fname, encoding='utf-8') as f:\n",
    "            next(f)\n",
    "            for i, line in enumerate(f):\n",
    "                word, vec = line.split(' ', 1)\n",
    "                self.word2vec[word] = np.fromstring(vec, sep=' ')\n",
    "                if i == (nmax - 1):\n",
    "                    break\n",
    "        print('Loaded %s pretrained word vectors' % (len(self.word2vec)))\n",
    "\n",
    "    def most_similar(self, w, k=5):\n",
    "        # k most similar words: self.score  -  np.argsort\n",
    "        trainingSet = list(self.word2vec.keys())\n",
    "        distances = []\n",
    "        for x in range(len(trainingSet)):\n",
    "            dist = self.score(w, trainingSet[x])\n",
    "            distances.append((trainingSet[x], dist))\n",
    "        distances.sort(key=operator.itemgetter(1), reverse=True)\n",
    "        neighbors = []\n",
    "        for x in range(1, k+1):\n",
    "            neighbors.append(distances[x][0])\n",
    "        return neighbors\n",
    "\n",
    "    def score(self, w1, w2):\n",
    "        # cosine similarity: np.dot  -  np.linalg.norm\n",
    "        v1 = self.word2vec[w1]\n",
    "        v2 = self.word2vec[w2]\n",
    "        x = np.dot(v1, v2)/(np.linalg.norm(v1)*np.linalg.norm(v2))\n",
    "        return x\n"
   ]
  },
  {
   "cell_type": "code",
   "execution_count": 4,
   "metadata": {},
   "outputs": [
    {
     "name": "stdout",
     "output_type": "stream",
     "text": [
      "Loaded 60000 pretrained word vectors\n",
      "cat dog 0.6716836662792491\n",
      "dog pet 0.6842064029669219\n",
      "dogs cats 0.7074389328052404\n",
      "paris france 0.7775108541288561\n",
      "germany berlin 0.7420295235998392\n",
      "['cats', 'kitty', 'kitten', 'feline', 'kitties']\n",
      "['dogs', 'puppy', 'Dog', 'doggie', 'canine']\n",
      "['dog', 'Dogs', 'doggies', 'canines', 'puppies']\n",
      "['france', 'Paris', 'london', 'berlin', 'europe']\n",
      "['europe', 'german', 'berlin', 'france', 'italy']\n"
     ]
    }
   ],
   "source": [
    "w2v = Word2vec(os.path.join(PATH_TO_DATA, 'crawl-300d-200k.vec'), nmax=60000)\n",
    "\n",
    "# You will be evaluated on the output of the following:\n",
    "for w1, w2 in zip(('cat', 'dog', 'dogs', 'paris', 'germany'), ('dog', 'pet', 'cats', 'france', 'berlin')):\n",
    "    print(w1, w2, w2v.score(w1, w2))\n",
    "for w1 in ['cat', 'dog', 'dogs', 'paris', 'germany']:\n",
    "    print(w2v.most_similar(w1))"
   ]
  },
  {
   "cell_type": "code",
   "execution_count": 4,
   "metadata": {},
   "outputs": [],
   "source": [
    "class BoV():\n",
    "    def __init__(self, w2v):\n",
    "        self.w2v = w2v\n",
    "        #self.idf = self.build_idf(sentences)\n",
    "    \n",
    "    def encode(self, sentences, idf=False):\n",
    "        # takes a list of sentences, outputs a numpy array of sentence embeddings\n",
    "        # see TP1 for help\n",
    "        sentemb = []\n",
    "        idf_dict = self.build_idf(sentences) \n",
    "        #return\n",
    "        for sent in sentences:\n",
    "            if idf is False:\n",
    "                # mean of word vectors\n",
    "                sentemb.append(np.mean([w2v.word2vec[w] for w in sent if w in w2v.word2vec], axis=0))\n",
    "                #assert False, 'TODO: fill in the blank'\n",
    "            else:\n",
    "                # idf-weighted mean of word vectors\n",
    "                sentemb.append(np.average([w2v.word2vec[w] for w in sent if w in w2v.word2vec], \n",
    "                                          axis=0, weights=[idf_dict[w] for w in sent if w in w2v.word2vec]))\n",
    "                #assert False, 'TODO: fill in the blank'\n",
    "        return np.vstack(sentemb)\n",
    "\n",
    "    def most_similar(self, s, sentences, idf=False, k=5):\n",
    "        # get most similar sentences and **print** them\n",
    "        #keys = self.encode(sentences, idf)\n",
    "        #query = self.encode([s], idf)\n",
    "        # k most similar words: self.score  -  np.argsort \n",
    "        distances = []\n",
    "        for x in range(len(sentences)):\n",
    "            dist = self.score(s, sentences[x])\n",
    "            distances.append((sentences[x], dist))\n",
    "        distances.sort(key=operator.itemgetter(1), reverse=True)\n",
    "        neighbors = []\n",
    "        for x in range(1, k+1):\n",
    "            neighbors.append(distances[x][0])\n",
    "        print([\" \".join(neighbors[i]) for i in range(len(neighbors))])\n",
    "\n",
    "    def score(self, s1, s2, idf=False):\n",
    "        # cosine similarity: use   np.dot  and  np.linalg.norm\n",
    "        s1 = self.encode([s1]).reshape(300) #change that\n",
    "        s2 = self.encode([s2]).reshape(300)\n",
    "        x = np.dot(s1, s2)/(np.linalg.norm(s1)*np.linalg.norm(s2))\n",
    "        return x\n",
    "    \n",
    "    def build_idf(self, sentences):\n",
    "        # build the idf dictionary: associate each word to its idf value\n",
    "        idf = {}\n",
    "        for sent in sentences:\n",
    "            for w in set(sent):\n",
    "                idf[w] = idf.get(w, 0) + 1\n",
    "\n",
    "        for word in idf.keys():\n",
    "            idf[word] = max(1, np.log10(len(sentences) / (idf[word])))\n",
    "        \n",
    "        return idf\n"
   ]
  },
  {
   "cell_type": "code",
   "execution_count": 6,
   "metadata": {},
   "outputs": [
    {
     "name": "stdout",
     "output_type": "stream",
     "text": [
      "Loaded 10000 pretrained word vectors\n",
      "Found 150736 sentences\n",
      "['girl smiling on roller coaster .', 'a boy smiles underwater .', 'two girlfriends smiling .', 'a smiling child swims .', 'a small boy in goggles smiling .']\n",
      "0.593603544417741\n",
      "['girl smiling on roller coaster .', 'a boy smiles underwater .', 'two girlfriends smiling .', 'a smiling child swims .', 'a small boy in goggles smiling .']\n",
      "0.593603544417741\n"
     ]
    }
   ],
   "source": [
    "w2v = Word2vec(os.path.join(PATH_TO_DATA, 'crawl-300d-200k.vec'), nmax=10000)\n",
    "s2v = BoV(w2v)\n",
    "\n",
    "# Load sentences in \"PATH_TO_DATA/sentences.txt\"\n",
    "sentences = []\n",
    "with open(PATH_TO_DATA + 'data/sentences.txt') as f:\n",
    "    for i, line in enumerate(f):\n",
    "        sent = line.rstrip().split()\n",
    "        sentences.append(sent)\n",
    "print('Found %s sentences' % len(sentences))\n",
    "\n",
    "# Build idf scores for each word\n",
    "idf = False\n",
    "\n",
    "# You will be evaluated on the output of the following:\n",
    "s2v.most_similar('' if not sentences else sentences[10], sentences, idf)  # BoV-mean\n",
    "print(s2v.score('' if not sentences else sentences[7], '' if not sentences else sentences[13], idf))\n",
    "\n",
    "idf = True\n",
    "s2v.most_similar('' if not sentences else sentences[10], sentences, idf)  # BoV-idf\n",
    "print(s2v.score('' if not sentences else sentences[7], '' if not sentences else sentences[13], idf))"
   ]
  },
  {
   "cell_type": "markdown",
   "metadata": {},
   "source": [
    "# 2) Multilingual (English-French) word embeddings"
   ]
  },
  {
   "cell_type": "markdown",
   "metadata": {},
   "source": [
    "Let's consider a bilingual dictionary of size V_a (e.g French-English).\n",
    "\n",
    "Let's define **X** and **Y** the **French** and **English** matrices.\n",
    "\n",
    "They contain the embeddings associated to the words in the bilingual dictionary.\n",
    "\n",
    "We want to find a **mapping W** that will project the source word space (e.g French) to the target word space (e.g English).\n",
    "\n",
    "Procrustes : **W\\* = argmin || W.X - Y ||  s.t  W^T.W = Id**\n",
    "has a closed form solution:\n",
    "**W = U.V^T  where  U.Sig.V^T = SVD(Y.X^T)**\n",
    "\n",
    "In what follows, you are asked to: "
   ]
  },
  {
   "cell_type": "code",
   "execution_count": 7,
   "metadata": {},
   "outputs": [
    {
     "name": "stdout",
     "output_type": "stream",
     "text": [
      "Loaded 50000 pretrained word vectors\n",
      "Loaded 50000 pretrained word vectors\n"
     ]
    }
   ],
   "source": [
    "# 1 - Download and load 50k first vectors of\n",
    "#     https://s3-us-west-1.amazonaws.com/fasttext-vectors/wiki.en.vec\n",
    "#     https://s3-us-west-1.amazonaws.com/fasttext-vectors/wiki.fr.vec\n",
    "\n",
    "# TYPE CODE HERE\n",
    "\n",
    "def load_wordvec(fname, nmax):\n",
    "    word2vec = {}\n",
    "    with io.open(fname, encoding='utf-8') as f:\n",
    "        next(f)\n",
    "        for i, line in enumerate(f):\n",
    "            word, vec = line.split(' ', 1)\n",
    "            word2vec[word] = np.fromstring(vec, sep=' ')\n",
    "            if i == (nmax - 1):\n",
    "                break\n",
    "    print('Loaded %s pretrained word vectors' % (len(word2vec)))\n",
    "    return word2vec\n",
    "        \n",
    "fr_dict = load_wordvec(os.path.join(PATH_TO_DATA, 'wiki.fr.vec'), nmax=50000)\n",
    "en_dict = load_wordvec(os.path.join(PATH_TO_DATA, 'wiki.en.vec'), nmax=50000)"
   ]
  },
  {
   "cell_type": "code",
   "execution_count": 10,
   "metadata": {},
   "outputs": [],
   "source": [
    "# 2 - Get words that appear in both vocabs (= identical character strings)\n",
    "#     Use it to create the matrix X and Y (of aligned embeddings for these words)\n",
    "\n",
    "# TYPE CODE HERE\n",
    "\n",
    "common = list(set(list(fr_dict)).intersection(list(en_dict)))\n",
    "len(common)\n",
    "\n",
    "X = [fr_dict[x] for x in common]\n",
    "Y = [en_dict[x] for x in common]"
   ]
  },
  {
   "cell_type": "code",
   "execution_count": 11,
   "metadata": {},
   "outputs": [],
   "source": [
    "# 3 - Solve the Procrustes using the scipy package and: scipy.linalg.svd() and get the optimal W\n",
    "#     Now W*French_vector is in the same space as English_vector\n",
    "\n",
    "# TYPE CODE HERE\n",
    "\n",
    "# W = U.V^T where U.Sig.V^T = SVD(Y.X^T)\n",
    "\n",
    "from scipy.linalg import svd\n",
    "temp = np.dot(np.transpose(np.matrix(X)), np.matrix(Y))\n",
    "U, s, Vh = svd(temp)\n",
    "W = np.dot(U, Vh)"
   ]
  },
  {
   "cell_type": "code",
   "execution_count": 12,
   "metadata": {},
   "outputs": [
    {
     "name": "stdout",
     "output_type": "stream",
     "text": [
      "['grandma', 'mom', 'mommy', 'mama', 'baby']\n",
      "['dog', 'chien', 'hound', 'chiens', 'chienne']\n"
     ]
    }
   ],
   "source": [
    "# 4 - After alignment with W, give examples of English nearest neighbors of some French words (and vice versa)\n",
    "#     You will be evaluated on that part and the code above\n",
    "\n",
    "# TYPE CODE HERE\n",
    "\n",
    "# update fr_dict\n",
    "X_new = np.matrix(list(fr_dict.values()))\n",
    "X_new = np.dot(X_new, W)\n",
    "X_new = [X_new[i].tolist()[0] for i in range(len(X_new))]\n",
    "new_fr_dict = dict(zip(list(fr_dict.keys()), X_new))\n",
    "\n",
    "def most_similar(trainingSet, testInstance, k=5):\n",
    "    distances = []\n",
    "    for x in range(len(trainingSet)):\n",
    "        dist = score(testInstance, trainingSet[x])\n",
    "        distances.append((trainingSet[x], dist))\n",
    "    distances.sort(key=operator.itemgetter(1), reverse=True)\n",
    "    neighbors = []\n",
    "    for x in range(k):\n",
    "        neighbors.append(distances[x][0])\n",
    "    return neighbors\n",
    "\n",
    "# French to English\n",
    "\n",
    "def score(w1, w2):\n",
    "    # cosine similarity: np.dot  -  np.linalg.norm\n",
    "    v1 = new_fr_dict[w1]\n",
    "    v2 = en_dict[w2]\n",
    "    x = np.dot(v1, v2)/(np.linalg.norm(v1)*np.linalg.norm(v2))\n",
    "    return x\n",
    "\n",
    "for w1 in ['maman']:\n",
    "    print(most_similar(list(en_dict.keys()), w1))\n",
    "\n",
    "# English to French\n",
    "\n",
    "def score(w1, w2):\n",
    "    # cosine similarity: np.dot  -  np.linalg.norm\n",
    "    v1 = en_dict[w1]\n",
    "    v2 = new_fr_dict[w2]\n",
    "    x = np.dot(v1, v2)/(np.linalg.norm(v1)*np.linalg.norm(v2))\n",
    "    return x\n",
    "    \n",
    "for w1 in ['dog']:\n",
    "    print(most_similar(list(new_fr_dict.keys()), w1))"
   ]
  },
  {
   "cell_type": "markdown",
   "metadata": {},
   "source": [
    "If you want to dive deeper on this subject: https://github.com/facebookresearch/MUSE"
   ]
  },
  {
   "cell_type": "markdown",
   "metadata": {},
   "source": [
    "# 3) Sentence classification with BoV and scikit-learn"
   ]
  },
  {
   "cell_type": "code",
   "execution_count": 13,
   "metadata": {},
   "outputs": [
    {
     "name": "stdout",
     "output_type": "stream",
     "text": [
      "Loaded 10000 pretrained word vectors\n",
      "Found 8544 sentences\n",
      "Found 1101 sentences\n",
      "Found 2210 sentences\n"
     ]
    }
   ],
   "source": [
    "# 1 - Load train/dev/test of Stanford Sentiment TreeBank (SST)\n",
    "#     (https://nlp.stanford.edu/~socherr/EMNLP2013_RNTN.pdf)\n",
    "\n",
    "# TYPE CODE HERE\n",
    "\n",
    "w2v = Word2vec(os.path.join(PATH_TO_DATA, 'crawl-300d-200k.vec'), nmax=10000)\n",
    "s2v = BoV(w2v)\n",
    "\n",
    "\n",
    "# Load train sentences in \"PATH_TO_DATA/sentences.txt\"\n",
    "sentences = []\n",
    "with open(PATH_TO_DATA + 'SST/stsa.fine.train.txt') as f:\n",
    "    for i, line in enumerate(f):\n",
    "        sent = line.rstrip().split()\n",
    "        sentences.append(sent)\n",
    "print('Found %s sentences' % len(sentences))\n",
    "\n",
    "# Get senetences without target\n",
    "target = [sentences[i][0] for i in range(len(sentences))]\n",
    "sentences = [sentences[i][1:] for i in range(len(sentences))]\n",
    "\n",
    "# Load dev sentences in \"PATH_TO_DATA/sentences.txt\"\n",
    "dev_sent = []\n",
    "with open(PATH_TO_DATA + 'SST/stsa.fine.dev.txt') as f:\n",
    "    for i, line in enumerate(f):\n",
    "        sent = line.rstrip().split()\n",
    "        dev_sent.append(sent)\n",
    "print('Found %s sentences' % len(dev_sent))\n",
    "\n",
    "# Get senetences without target\n",
    "dev_target = [dev_sent[i][0] for i in range(len(dev_sent))]\n",
    "dev_sent = [dev_sent[i][1:] for i in range(len(dev_sent))]\n",
    "\n",
    "\n",
    "# Load test sentences in \"PATH_TO_DATA/sentences.txt\"\n",
    "test_sent = []\n",
    "with open(PATH_TO_DATA + 'SST/stsa.fine.test.txt') as f:\n",
    "    for i, line in enumerate(f):\n",
    "        sent = line.rstrip().split()\n",
    "        test_sent.append(sent)\n",
    "print('Found %s sentences' % len(test_sent))"
   ]
  },
  {
   "cell_type": "code",
   "execution_count": 48,
   "metadata": {},
   "outputs": [],
   "source": [
    "# 2 - Encode sentences with the BoV model above\n",
    "\n",
    "# TYPE CODE HERE\n",
    "\n",
    "idf = False\n",
    "encoded = s2v.encode(sentences, idf)\n",
    "dev_encoded = s2v.encode(dev_sent, idf)\n",
    "test_encoded = s2v.encode(test_sent, idf)"
   ]
  },
  {
   "cell_type": "code",
   "execution_count": 49,
   "metadata": {},
   "outputs": [
    {
     "name": "stdout",
     "output_type": "stream",
     "text": [
      "Cross-validation accuracy score: 0.3974732182312716\n",
      "Training MSE: 1.409878277153558\n"
     ]
    }
   ],
   "source": [
    "# 3 - Learn Logistic Regression on top of sentence embeddings using scikit-learn\n",
    "#     (consider tuning the L2 regularization on the dev set)\n",
    "\n",
    "# TYPE CODE HERE\n",
    "\n",
    "from sklearn.linear_model import LogisticRegression\n",
    "from sklearn.feature_selection import SelectKBest, chi2, f_classif\n",
    "from sklearn.cross_validation import cross_val_score\n",
    "from sklearn.metrics import accuracy_score\n",
    "\n",
    "def compute_score(clf, X, y, scoring='accuracy'):\n",
    "    xval = cross_val_score(clf, X, y, cv=5, scoring=scoring)\n",
    "    return np.mean(xval)\n",
    "\n",
    "# format to numpy\n",
    "X = np.array(encoded)\n",
    "X_dev = np.array(dev_encoded)\n",
    "X_test = np.array(test_encoded)\n",
    "y = np.array(target).astype(int)\n",
    "y_dev = np.array(dev_target).astype(int)\n",
    "\n",
    "logistic = LogisticRegression(multi_class='multinomial', solver='lbfgs', C=1.0) #'lbfgs' 'sag' 'saga' 'newton-cg'\n",
    "logistic.fit(X, y)\n",
    "print(\"Cross-validation accuracy score: \" + str(compute_score(logistic, X, y, scoring='accuracy')))\n",
    "\n",
    "# get training error\n",
    "from sklearn.metrics import mean_squared_error\n",
    "y_pred = logistic.predict(X)\n",
    "print(\"Training MSE: \" + str(mean_squared_error(y, y_pred)))"
   ]
  },
  {
   "cell_type": "code",
   "execution_count": 50,
   "metadata": {},
   "outputs": [
    {
     "name": "stdout",
     "output_type": "stream",
     "text": [
      "Dev accuracy: 0.3978201634877384\n",
      "Dev MSE: 1.5240690281562217\n"
     ]
    }
   ],
   "source": [
    "# 4 - Produce 2210 predictions for the test set (in the same order). One line = one prediction (=0,1,2,3,4).\n",
    "#     Attach the output file \"logreg_bov_y_test_sst.txt\" to your deliverable.\n",
    "#     You will be evaluated on the results of the test set.\n",
    "\n",
    "# TYPE CODE HERE\n",
    "\n",
    "y_pred = logistic.predict(X_dev)\n",
    "print(\"Dev accuracy: \" + str(accuracy_score(y_dev, y_pred)))\n",
    "\n",
    "# get dev error\n",
    "print(\"Dev MSE: \" + str(mean_squared_error(y_dev, y_pred)))\n",
    "\n",
    "# predict test\n",
    "y_test = logistic.predict(X_test)\n",
    "\n",
    "# save to file\n",
    "y_test.tofile('logreg_bov_y_test_sst.txt', sep=',')"
   ]
  },
  {
   "cell_type": "code",
   "execution_count": 51,
   "metadata": {},
   "outputs": [
    {
     "name": "stdout",
     "output_type": "stream",
     "text": [
      "Cross-validation accuracy score: 0.36890682111918577\n",
      "Dev accuracy: 0.35240690281562215\n"
     ]
    }
   ],
   "source": [
    "# BONUS!\n",
    "# 5 - Try to improve performance with another classifier\n",
    "#     Attach the output file \"XXX_bov_y_test_sst.txt\" to your deliverable (where XXX = the name of the classifier)\n",
    "\n",
    "# TYPE CODE HERE\n",
    "from sklearn.ensemble import RandomForestClassifier\n",
    "from sklearn.model_selection import GridSearchCV, StratifiedKFold\n",
    "\n",
    "RF = RandomForestClassifier(n_estimators=100, criterion='gini')\n",
    "RF.fit(X, y)\n",
    "print(\"Cross-validation accuracy score: \" + str(compute_score(RF, X, y, scoring='accuracy')))\n",
    "\n",
    "y_pred = RF.predict(X_dev)\n",
    "print(\"Dev accuracy: \" + str(accuracy_score(y_dev, y_pred)))\n",
    "\n",
    "#test\n",
    "y_test = RF.predict(X_test)\n",
    "\n",
    "y_test.tofile('RandomForest_bov_y_test_sst.txt', sep=',')"
   ]
  },
  {
   "cell_type": "markdown",
   "metadata": {},
   "source": [
    "# 4) Sentence classification with LSTMs in Keras"
   ]
  },
  {
   "cell_type": "markdown",
   "metadata": {},
   "source": [
    "## 4.1 - Preprocessing"
   ]
  },
  {
   "cell_type": "code",
   "execution_count": 5,
   "metadata": {},
   "outputs": [
    {
     "name": "stderr",
     "output_type": "stream",
     "text": [
      "/Users/Jean/anaconda3/lib/python3.6/site-packages/h5py/__init__.py:36: FutureWarning: Conversion of the second argument of issubdtype from `float` to `np.floating` is deprecated. In future, it will be treated as `np.float64 == np.dtype(float).type`.\n",
      "  from ._conv import register_converters as _register_converters\n",
      "Using TensorFlow backend.\n",
      "/Users/Jean/anaconda3/lib/python3.6/importlib/_bootstrap.py:219: RuntimeWarning: compiletime version 3.5 of module 'tensorflow.python.framework.fast_tensor_util' does not match runtime version 3.6\n",
      "  return f(*args, **kwds)\n"
     ]
    }
   ],
   "source": [
    "import keras"
   ]
  },
  {
   "cell_type": "code",
   "execution_count": 60,
   "metadata": {},
   "outputs": [
    {
     "name": "stdout",
     "output_type": "stream",
     "text": [
      "Loaded 10000 pretrained word vectors\n",
      "Found 8544 sentences\n",
      "Found 1101 sentences\n",
      "Found 2210 sentences\n"
     ]
    }
   ],
   "source": [
    "# 1 - Load train/dev/test sets of SST\n",
    "\n",
    "# TYPE CODE HERE\n",
    "\n",
    "w2v = Word2vec(os.path.join(PATH_TO_DATA, 'crawl-300d-200k.vec'), nmax=10000)\n",
    "s2v = BoV(w2v)\n",
    "\n",
    "\n",
    "# Load train sentences in \"PATH_TO_DATA/sentences.txt\"\n",
    "sentences = []\n",
    "with open(PATH_TO_DATA + 'SST/stsa.fine.train.txt') as f:\n",
    "    for i, line in enumerate(f):\n",
    "        sent = line.rstrip().split()\n",
    "        sentences.append(sent)\n",
    "print('Found %s sentences' % len(sentences))\n",
    "\n",
    "# Get senetences without target\n",
    "target = [int(sentences[i][0]) for i in range(len(sentences))]\n",
    "sentences = [sentences[i][1:] for i in range(len(sentences))]\n",
    "\n",
    "# Load dev sentences in \"PATH_TO_DATA/sentences.txt\"\n",
    "dev_sent = []\n",
    "with open(PATH_TO_DATA + 'SST/stsa.fine.dev.txt') as f:\n",
    "    for i, line in enumerate(f):\n",
    "        sent = line.rstrip().split()\n",
    "        dev_sent.append(sent)\n",
    "print('Found %s sentences' % len(dev_sent))\n",
    "\n",
    "# Get senetences without target\n",
    "dev_target = [int(dev_sent[i][0]) for i in range(len(dev_sent))]\n",
    "dev_sent = [dev_sent[i][1:] for i in range(len(dev_sent))]\n",
    "\n",
    "\n",
    "# Load test sentences in \"PATH_TO_DATA/sentences.txt\"\n",
    "test_sent = []\n",
    "with open(PATH_TO_DATA + 'SST/stsa.fine.test.txt') as f:\n",
    "    for i, line in enumerate(f):\n",
    "        sent = line.rstrip().split()\n",
    "        test_sent.append(sent)\n",
    "print('Found %s sentences' % len(test_sent))"
   ]
  },
  {
   "cell_type": "code",
   "execution_count": 61,
   "metadata": {},
   "outputs": [],
   "source": [
    "# 2 - Transform text to integers using keras.preprocessing.text.one_hot function\n",
    "#     https://keras.io/preprocessing/text/\n",
    "\n",
    "# TYPE CODE HERE\n",
    "\n",
    "from keras.preprocessing.text import one_hot\n",
    "\n",
    "n = 20000\n",
    "\n",
    "train_one_hot = [one_hot(\" \".join(sentences[i]), n) for i in range(len(sentences))]\n",
    "dev_one_hot = [one_hot(\" \".join(dev_sent[i]), n) for i in range(len(dev_sent))]\n",
    "test_one_hot = [one_hot(\" \".join(test_sent[i]), n) for i in range(len(test_sent))]"
   ]
  },
  {
   "cell_type": "markdown",
   "metadata": {},
   "source": [
    "**Padding input data**\n",
    "\n",
    "Models in Keras (and elsewhere) take batches of sentences of the same length as input. It is because Deep Learning framework have been designed to handle well Tensors, which are particularly suited for fast computation on the GPU.\n",
    "\n",
    "Since sentences have different sizes, we \"pad\" them. That is, we add dummy \"padding\" tokens so that they all have the same length.\n",
    "\n",
    "The input to a Keras model thus has this size : (batchsize, maxseqlen) where maxseqlen is the maximum length of a sentence in the batch."
   ]
  },
  {
   "cell_type": "code",
   "execution_count": 62,
   "metadata": {},
   "outputs": [],
   "source": [
    "# 3 - Pad your sequences using keras.preprocessing.sequence.pad_sequences\n",
    "#     https://keras.io/preprocessing/sequence/\n",
    "\n",
    "# TYPE CODE HERE\n",
    "from keras.preprocessing.sequence import pad_sequences\n",
    "\n",
    "train_pad = pad_sequences(train_one_hot)\n",
    "dev_pad = pad_sequences(dev_one_hot)\n",
    "test_pad = pad_sequences(test_one_hot)"
   ]
  },
  {
   "cell_type": "markdown",
   "metadata": {},
   "source": [
    "## 4.2 - Design and train your model"
   ]
  },
  {
   "cell_type": "code",
   "execution_count": 46,
   "metadata": {},
   "outputs": [
    {
     "name": "stderr",
     "output_type": "stream",
     "text": [
      "/Users/Jean/anaconda3/lib/python3.6/site-packages/ipykernel_launcher.py:20: UserWarning: Update your `LSTM` call to the Keras 2 API: `LSTM(64, dropout=0.2, recurrent_dropout=0.2)`\n"
     ]
    }
   ],
   "source": [
    "# 4 - Design your encoder + classifier using keras.layers\n",
    "#     In Keras, Torch and other deep learning framework, we create a \"container\" which is the Sequential() module.\n",
    "#     Then we add components to this contained : the lookuptable, the LSTM, the classifier etc.\n",
    "#     All of these components are contained in the Sequential() and are trained together.\n",
    "\n",
    "\n",
    "# ADAPT CODE BELOW\n",
    "\n",
    "\n",
    "from keras.models import Sequential\n",
    "from keras.layers import Embedding, LSTM, Dense, Activation, Conv1D, MaxPooling1D, Reshape, Flatten\n",
    "\n",
    "embed_dim  = 32  # word embedding dimension\n",
    "nhid       = 64  # number of hidden units in the LSTM\n",
    "vocab_size = 20000  # size of the vocabulary\n",
    "n_classes  = 5\n",
    "\n",
    "model = Sequential()\n",
    "model.add(Embedding(vocab_size, embed_dim))\n",
    "model.add(LSTM(nhid, dropout_W=0.2, dropout_U=0.2))\n",
    "model.add(Dense(n_classes, activation='sigmoid'))"
   ]
  },
  {
   "cell_type": "code",
   "execution_count": 47,
   "metadata": {},
   "outputs": [
    {
     "name": "stdout",
     "output_type": "stream",
     "text": [
      "_________________________________________________________________\n",
      "Layer (type)                 Output Shape              Param #   \n",
      "=================================================================\n",
      "embedding_12 (Embedding)     (None, None, 32)          640000    \n",
      "_________________________________________________________________\n",
      "lstm_16 (LSTM)               (None, 64)                24832     \n",
      "_________________________________________________________________\n",
      "dense_16 (Dense)             (None, 5)                 325       \n",
      "=================================================================\n",
      "Total params: 665,157\n",
      "Trainable params: 665,157\n",
      "Non-trainable params: 0\n",
      "_________________________________________________________________\n",
      "None\n"
     ]
    }
   ],
   "source": [
    "# 5 - Define your loss/optimizer/metrics\n",
    "\n",
    "# MODIFY CODE BELOW\n",
    "\n",
    "loss_classif     =  'categorical_crossentropy' # find the right loss for multi-class classification\n",
    "optimizer        =  'adam' # find the right optimizer\n",
    "metrics_classif  =  ['categorical_accuracy']\n",
    "\n",
    "# Observe how easy (but blackboxed) this is in Keras\n",
    "model.compile(loss=loss_classif,\n",
    "              optimizer=optimizer,\n",
    "              metrics=metrics_classif)\n",
    "print(model.summary())"
   ]
  },
  {
   "cell_type": "code",
   "execution_count": 35,
   "metadata": {},
   "outputs": [
    {
     "name": "stderr",
     "output_type": "stream",
     "text": [
      "/Users/Jean/anaconda3/lib/python3.6/site-packages/keras/models.py:944: UserWarning: The `nb_epoch` argument in `fit` has been renamed `epochs`.\n",
      "  warnings.warn('The `nb_epoch` argument in `fit` '\n"
     ]
    },
    {
     "name": "stdout",
     "output_type": "stream",
     "text": [
      "Train on 8544 samples, validate on 1101 samples\n",
      "Epoch 1/10\n",
      "8544/8544 [==============================] - 21s 2ms/step - loss: 1.5714 - categorical_accuracy: 0.2761 - val_loss: 1.5655 - val_categorical_accuracy: 0.2534\n",
      "Epoch 2/10\n",
      "8544/8544 [==============================] - 20s 2ms/step - loss: 1.4433 - categorical_accuracy: 0.3716 - val_loss: 1.3941 - val_categorical_accuracy: 0.3760\n",
      "Epoch 3/10\n",
      "8544/8544 [==============================] - 20s 2ms/step - loss: 1.1716 - categorical_accuracy: 0.4683 - val_loss: 1.3939 - val_categorical_accuracy: 0.3769\n",
      "Epoch 4/10\n",
      "8544/8544 [==============================] - 21s 2ms/step - loss: 0.9306 - categorical_accuracy: 0.6005 - val_loss: 1.6205 - val_categorical_accuracy: 0.3606\n",
      "Epoch 5/10\n",
      "8544/8544 [==============================] - 20s 2ms/step - loss: 0.6992 - categorical_accuracy: 0.7299 - val_loss: 1.7932 - val_categorical_accuracy: 0.3878\n",
      "Epoch 6/10\n",
      "8544/8544 [==============================] - 18s 2ms/step - loss: 0.5222 - categorical_accuracy: 0.8058 - val_loss: 1.9854 - val_categorical_accuracy: 0.3688\n",
      "Epoch 7/10\n",
      "8544/8544 [==============================] - 18s 2ms/step - loss: 0.4024 - categorical_accuracy: 0.8607 - val_loss: 2.2449 - val_categorical_accuracy: 0.3488\n",
      "Epoch 8/10\n",
      "8544/8544 [==============================] - 22s 3ms/step - loss: 0.3054 - categorical_accuracy: 0.8948 - val_loss: 2.3924 - val_categorical_accuracy: 0.3497\n",
      "Epoch 9/10\n",
      "8544/8544 [==============================] - 21s 2ms/step - loss: 0.2407 - categorical_accuracy: 0.9194 - val_loss: 2.7585 - val_categorical_accuracy: 0.3633\n",
      "Epoch 10/10\n",
      "8544/8544 [==============================] - 21s 2ms/step - loss: 0.1995 - categorical_accuracy: 0.9324 - val_loss: 2.9308 - val_categorical_accuracy: 0.3551\n"
     ]
    }
   ],
   "source": [
    "# 6 - Train your model and find the best hyperparameters for your dev set\n",
    "#     you will be evaluated on the quality of your predictions on the test set\n",
    "\n",
    "# ADAPT CODE BELOW\n",
    "\n",
    "# Format\n",
    "from keras.utils import np_utils\n",
    "X_train = train_pad\n",
    "y_train = target\n",
    "y_train = np_utils.to_categorical(y_train, 5)\n",
    "\n",
    "X_dev = dev_pad\n",
    "y_dev = dev_target\n",
    "y_dev = np_utils.to_categorical(y_dev, 5)\n",
    "\n",
    "bs = 64\n",
    "n_epochs = 10\n",
    "\n",
    "history = model.fit(X_train, y_train, batch_size=bs, nb_epoch=n_epochs, validation_data=(X_dev, y_dev))"
   ]
  },
  {
   "cell_type": "code",
   "execution_count": 37,
   "metadata": {},
   "outputs": [
    {
     "data": {
      "image/png": "[encoded data removed]",
      "text/plain": [
       "<matplotlib.figure.Figure at 0x1827d94f28>"
      ]
     },
     "metadata": {},
     "output_type": "display_data"
    },
    {
     "data": {
      "image/png": "[encoded data removed]",
      "text/plain": [
       "<matplotlib.figure.Figure at 0x1827e55588>"
      ]
     },
     "metadata": {},
     "output_type": "display_data"
    }
   ],
   "source": [
    "# 7 - Generate your predictions on the test set using model.predict(x_test)\n",
    "#     https://keras.io/models/model/\n",
    "#     Log your predictions in a file (one line = one integer: 0,1,2,3,4)\n",
    "#     Attach the output file \"logreg_lstm_y_test_sst.txt\" to your deliverable.\n",
    "\n",
    "# TYPE CODE HERE\n",
    "\n",
    "# plot\n",
    "\n",
    "import matplotlib.pyplot as plt\n",
    "%matplotlib inline\n",
    "# plot accuracy\n",
    "plt.plot(history.history['categorical_accuracy'])\n",
    "plt.plot(history.history['val_categorical_accuracy'])\n",
    "plt.title('model accuracy')\n",
    "plt.ylabel('accuracy')\n",
    "plt.xlabel('epoch')\n",
    "plt.legend(['train', 'test'], loc='upper left')\n",
    "plt.show()\n",
    "# plot loss\n",
    "plt.plot(history.history['loss'])\n",
    "plt.plot(history.history['val_loss'])\n",
    "plt.title('model loss')\n",
    "plt.ylabel('loss')\n",
    "plt.xlabel('epoch')\n",
    "plt.legend(['train', 'test'], loc='upper left')\n",
    "plt.show()\n",
    "\n",
    "# prediction\n",
    "X_test = test_pad\n",
    "y_test = model.predict(X_test)\n",
    "y_classes = y_test.argmax(axis=-1)\n",
    "y_classes.tofile('logreg_lstm_y_test_sst.txt', sep=',')"
   ]
  },
  {
   "cell_type": "markdown",
   "metadata": {},
   "source": [
    "## 4.3 -- innovate !"
   ]
  },
  {
   "cell_type": "code",
   "execution_count": 63,
   "metadata": {},
   "outputs": [],
   "source": [
    "from keras.utils import np_utils\n",
    "X_train = train_pad\n",
    "y_train = target\n",
    "y_train = np_utils.to_categorical(y_train, 5)\n",
    "\n",
    "X_dev = dev_pad\n",
    "y_dev = dev_target\n",
    "y_dev = np_utils.to_categorical(y_dev, 5)"
   ]
  },
  {
   "cell_type": "code",
   "execution_count": 66,
   "metadata": {},
   "outputs": [
    {
     "name": "stderr",
     "output_type": "stream",
     "text": [
      "/Users/Jean/anaconda3/lib/python3.6/site-packages/ipykernel_launcher.py:15: UserWarning: Update your `LSTM` call to the Keras 2 API: `LSTM(64, dropout=0.2, recurrent_dropout=0.2)`\n",
      "  from ipykernel import kernelapp as app\n"
     ]
    },
    {
     "name": "stdout",
     "output_type": "stream",
     "text": [
      "_________________________________________________________________\n",
      "Layer (type)                 Output Shape              Param #   \n",
      "=================================================================\n",
      "embedding_25 (Embedding)     (None, None, 32)          640000    \n",
      "_________________________________________________________________\n",
      "lstm_33 (LSTM)               (None, 64)                24832     \n",
      "_________________________________________________________________\n",
      "dense_34 (Dense)             (None, 3)                 195       \n",
      "_________________________________________________________________\n",
      "reshape_14 (Reshape)         (None, 3, 1)              0         \n",
      "_________________________________________________________________\n",
      "conv1d_16 (Conv1D)           (None, 2, 16)             48        \n",
      "_________________________________________________________________\n",
      "max_pooling1d_16 (MaxPooling (None, 1, 16)             0         \n",
      "_________________________________________________________________\n",
      "flatten_16 (Flatten)         (None, 16)                0         \n",
      "_________________________________________________________________\n",
      "dense_35 (Dense)             (None, 5)                 85        \n",
      "=================================================================\n",
      "Total params: 665,160\n",
      "Trainable params: 665,160\n",
      "Non-trainable params: 0\n",
      "_________________________________________________________________\n",
      "None\n"
     ]
    },
    {
     "name": "stderr",
     "output_type": "stream",
     "text": [
      "/Users/Jean/anaconda3/lib/python3.6/site-packages/keras/models.py:944: UserWarning: The `nb_epoch` argument in `fit` has been renamed `epochs`.\n",
      "  warnings.warn('The `nb_epoch` argument in `fit` '\n"
     ]
    },
    {
     "name": "stdout",
     "output_type": "stream",
     "text": [
      "Train on 8544 samples, validate on 1101 samples\n",
      "Epoch 1/5\n",
      "8544/8544 [==============================] - 16s 2ms/step - loss: 1.5791 - categorical_accuracy: 0.2718 - val_loss: 1.5761 - val_categorical_accuracy: 0.2534\n",
      "Epoch 2/5\n",
      "8544/8544 [==============================] - 10s 1ms/step - loss: 1.5678 - categorical_accuracy: 0.2761 - val_loss: 1.5709 - val_categorical_accuracy: 0.2552\n",
      "Epoch 3/5\n",
      "8544/8544 [==============================] - 10s 1ms/step - loss: 1.5350 - categorical_accuracy: 0.3312 - val_loss: 1.5403 - val_categorical_accuracy: 0.3306\n",
      "Epoch 4/5\n",
      "8544/8544 [==============================] - 10s 1ms/step - loss: 1.4421 - categorical_accuracy: 0.4391 - val_loss: 1.5110 - val_categorical_accuracy: 0.3642\n",
      "Epoch 5/5\n",
      "8544/8544 [==============================] - 10s 1ms/step - loss: 1.3232 - categorical_accuracy: 0.4767 - val_loss: 1.5178 - val_categorical_accuracy: 0.3633\n"
     ]
    }
   ],
   "source": [
    "# 8 - Open question: find a model that is better on your dev set\n",
    "#     (e.g: use a 1D ConvNet, use a better classifier, pretrain your lookup tables ..)\n",
    "#     you will get point if the results on the test set are better: be careful of not overfitting your dev set too much..\n",
    "#     Attach the output file \"XXX_XXX_y_test_sst.txt\" to your deliverable.\n",
    "\n",
    "# TYPE CODE HERE\n",
    "\n",
    "embed_dim  = 32  # word embedding dimension\n",
    "nhid       = 64  # number of hidden units in the LSTM\n",
    "vocab_size = 20000  # size of the vocabulary\n",
    "n_classes  = 5\n",
    "\n",
    "model2 = Sequential()\n",
    "model2.add(Embedding(vocab_size, embed_dim))\n",
    "model2.add(LSTM(nhid, dropout_W=0.2, dropout_U=0.2)) #, return_sequences=True))\n",
    "#model2.add(LSTM(nhid, dropout_W=0.2, dropout_U=0.2))\n",
    "model2.add(Dense(3, activation='softmax'))\n",
    "model2.add(Reshape((3, 1)))\n",
    "model2.add(Conv1D(16, 2, activation='relu'))\n",
    "model2.add(MaxPooling1D(pool_size=2))\n",
    "model2.add(Flatten())\n",
    "model2.add(Dense(n_classes, activation='softmax'))\n",
    "\n",
    "#\n",
    "loss_classif     =  'categorical_crossentropy' # find the right loss for multi-class classification\n",
    "optimizer        =  'adam' # find the right optimizer\n",
    "metrics_classif  =  ['categorical_accuracy']\n",
    "\n",
    "# Observe how easy (but blackboxed) this is in Keras\n",
    "model2.compile(loss=loss_classif,\n",
    "              optimizer=optimizer,\n",
    "              metrics=metrics_classif)\n",
    "print(model2.summary())\n",
    "\n",
    "\n",
    "bs = 64\n",
    "n_epochs = 5\n",
    "\n",
    "history2 = model2.fit(X_train, y_train, batch_size=bs, nb_epoch=n_epochs, validation_data=(X_dev, y_dev))\n",
    "\n",
    "# prediction\n",
    "y_test = model2.predict(X_test)\n",
    "y_classes = y_test.argmax(axis=-1)\n",
    "y_classes.tofile('conv1d_lstm_y_test_sst.txt', sep=',')"
   ]
  },
  {
   "cell_type": "code",
   "execution_count": null,
   "metadata": {},
   "outputs": [],
   "source": []
  }
 ],
 "metadata": {
  "kernelspec": {
   "display_name": "Python 3",
   "language": "python",
   "name": "python3"
  },
  "language_info": {
   "codemirror_mode": {
    "name": "ipython",
    "version": 3
   },
   "file_extension": ".py",
   "mimetype": "text/x-python",
   "name": "python",
   "nbconvert_exporter": "python",
   "pygments_lexer": "ipython3",
   "version": "3.6.4"
  }
 },
 "nbformat": 4,
 "nbformat_minor": 1
}
