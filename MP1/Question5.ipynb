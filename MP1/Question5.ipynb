{
 "cells": [
  {
   "cell_type": "markdown",
   "metadata": {},
   "source": [
    "# Question 5"
   ]
  },
  {
   "cell_type": "code",
   "execution_count": 130,
   "metadata": {},
   "outputs": [
    {
     "data": {
      "image/png": "[encoded data removed]",
      "text/plain": [
       "<matplotlib.figure.Figure at 0x18310d4dd8>"
      ]
     },
     "metadata": {},
     "output_type": "display_data"
    }
   ],
   "source": [
    "# preliminary code\n",
    "\n",
    "import matplotlib.pyplot as plt\n",
    "%matplotlib inline\n",
    "import numpy as np\n",
    "\n",
    "def generate_a_drawing(figsize, U, V, noise=0.0):\n",
    "    fig = plt.figure(figsize=(figsize,figsize))\n",
    "    ax = plt.subplot(111)\n",
    "    plt.axis('Off')\n",
    "    ax.set_xlim(0,figsize)\n",
    "    ax.set_ylim(0,figsize)\n",
    "    ax.fill(U, V, \"k\")\n",
    "    fig.canvas.draw()\n",
    "    imdata = np.frombuffer(fig.canvas.tostring_rgb(), dtype=np.uint8)[::3].astype(np.float32)\n",
    "    imdata = imdata + noise * np.random.random(imdata.size)\n",
    "    plt.close(fig)\n",
    "    return imdata\n",
    "\n",
    "def generate_a_rectangle(noise=0.0, free_location=False):\n",
    "    figsize = 1.0\n",
    "    U = np.zeros(4)\n",
    "    V = np.zeros(4)\n",
    "    if free_location:\n",
    "        corners = np.random.random(4)\n",
    "        top = max(corners[0], corners[1])\n",
    "        bottom = min(corners[0], corners[1])\n",
    "        left = min(corners[2], corners[3])\n",
    "        right = max(corners[2], corners[3])\n",
    "    else:\n",
    "        side = (0.3 + 0.7 * np.random.random()) * figsize\n",
    "        top = figsize/2 + side/2\n",
    "        bottom = figsize/2 - side/2\n",
    "        left = bottom\n",
    "        right = top\n",
    "    U[0] = U[1] = top\n",
    "    U[2] = U[3] = bottom\n",
    "    V[0] = V[3] = left\n",
    "    V[1] = V[2] = right\n",
    "    return generate_a_drawing(figsize, U, V, noise)\n",
    "\n",
    "\n",
    "def generate_a_disk(noise=0.0, free_location=False):\n",
    "    figsize = 1.0\n",
    "    if free_location:\n",
    "        center = np.random.random(2)\n",
    "    else:\n",
    "        center = (figsize/2, figsize/2)\n",
    "    radius = (0.3 + 0.7 * np.random.random()) * figsize/2\n",
    "    N = 50\n",
    "    U = np.zeros(N)\n",
    "    V = np.zeros(N)\n",
    "    i = 0\n",
    "    for t in np.linspace(0, 2*np.pi, N):\n",
    "        U[i] = center[0] + np.cos(t) * radius\n",
    "        V[i] = center[1] + np.sin(t) * radius\n",
    "        i = i + 1\n",
    "    return generate_a_drawing(figsize, U, V, noise)\n",
    "\n",
    "def generate_a_triangle(noise=0.0, free_location=False):\n",
    "    figsize = 1.0\n",
    "    if free_location:\n",
    "        U = np.random.random(3)\n",
    "        V = np.random.random(3)\n",
    "    else:\n",
    "        size = (0.3 + 0.7 * np.random.random())*figsize/2\n",
    "        middle = figsize/2\n",
    "        U = (middle, middle+size, middle-size)\n",
    "        V = (middle+size, middle-size, middle-size)\n",
    "    imdata = generate_a_drawing(figsize, U, V, noise)\n",
    "    return [imdata, [U[0], V[0], U[1], V[1], U[2], V[2]]]\n",
    "\n",
    "\n",
    "im = generate_a_rectangle(10, True)\n",
    "plt.imshow(im.reshape(72, 72), cmap='gray')\n",
    "\n",
    "\n",
    "im = generate_a_disk(10)\n",
    "plt.imshow(im.reshape(72, 72), cmap='gray')\n",
    "\n",
    "[im, v] = generate_a_triangle(20, False)\n",
    "plt.imshow(im.reshape(72, 72), cmap='gray')\n",
    "\n",
    "\n",
    "def generate_dataset_classification(nb_samples, noise=0.0, free_location=False):\n",
    "    # Getting im_size:\n",
    "    im_size = generate_a_rectangle().shape[0]\n",
    "    X = np.zeros([nb_samples,im_size])\n",
    "    Y = np.zeros(nb_samples)\n",
    "    print('Creating data:')\n",
    "    for i in range(nb_samples):\n",
    "        if i % 10 == 0:\n",
    "            print(i)\n",
    "        category = np.random.randint(3)\n",
    "        if category == 0:\n",
    "            X[i] = generate_a_rectangle(noise, free_location)\n",
    "        elif category == 1:\n",
    "            X[i] = generate_a_disk(noise, free_location)\n",
    "        else:\n",
    "            [X[i], V] = generate_a_triangle(noise, free_location)\n",
    "        Y[i] = category\n",
    "    X = (X + noise) / (255 + 2 * noise)\n",
    "    return [X, Y]\n",
    "\n",
    "def generate_test_set_classification():\n",
    "    np.random.seed(42)\n",
    "    [X_test, Y_test] = generate_dataset_classification(300, 20, True)\n",
    "    Y_test = np_utils.to_categorical(Y_test, 3)\n",
    "    return [X_test, Y_test]\n",
    "\n",
    "def generate_dataset_regression(nb_samples, noise=0.0):\n",
    "    # Getting im_size:\n",
    "    im_size = generate_a_triangle()[0].shape[0]\n",
    "    X = np.zeros([nb_samples,im_size])\n",
    "    Y = np.zeros([nb_samples, 6])\n",
    "    print('Creating data:')\n",
    "    for i in range(nb_samples):\n",
    "        if i % 10 == 0:\n",
    "            print(i)\n",
    "        [X[i], Y[i]] = generate_a_triangle(noise, True)\n",
    "    X = (X + noise) / (255 + 2 * noise)\n",
    "    return [X, Y]\n",
    "\n",
    "import matplotlib.patches as patches\n",
    "\n",
    "def visualize_prediction(x, y):\n",
    "    fig, ax = plt.subplots(figsize=(5, 5))\n",
    "    I = x.reshape((72,72))\n",
    "    ax.imshow(I, extent=[-0.15,1.15,-0.15,1.15],cmap='gray')\n",
    "    ax.set_xlim([0,1])\n",
    "    ax.set_ylim([0,1])\n",
    "\n",
    "    xy = y.reshape(3,2)\n",
    "    tri = patches.Polygon(xy, closed=True, fill = False, edgecolor = 'r', linewidth = 5, alpha = 0.5)\n",
    "    ax.add_patch(tri)\n",
    "\n",
    "    plt.show()\n",
    "\n",
    "def generate_test_set_regression():\n",
    "    np.random.seed(42)\n",
    "    [X_test, Y_test] = generate_dataset_regression(300, 20)\n",
    "    Y_test = np_utils.to_categorical(Y_test, 3)\n",
    "    return [X_test, Y_test]\n",
    "\n"
   ]
  },
  {
   "cell_type": "code",
   "execution_count": 131,
   "metadata": {},
   "outputs": [
    {
     "name": "stdout",
     "output_type": "stream",
     "text": [
      "Creating data:\n",
      "0\n",
      "10\n",
      "20\n",
      "30\n",
      "40\n",
      "50\n",
      "60\n",
      "70\n",
      "80\n",
      "90\n",
      "100\n",
      "110\n",
      "120\n",
      "130\n",
      "140\n",
      "150\n",
      "160\n",
      "170\n",
      "180\n",
      "190\n",
      "200\n",
      "210\n",
      "220\n",
      "230\n",
      "240\n",
      "250\n",
      "260\n",
      "270\n",
      "280\n",
      "290\n"
     ]
    }
   ],
   "source": [
    "[X_train, Y_train] = generate_dataset_regression(300, 20)"
   ]
  },
  {
   "cell_type": "code",
   "execution_count": 132,
   "metadata": {},
   "outputs": [
    {
     "data": {
      "text/plain": [
       "<matplotlib.image.AxesImage at 0x182b2b45c0>"
      ]
     },
     "execution_count": 132,
     "metadata": {},
     "output_type": "execute_result"
    },
    {
     "data": {
      "image/png": "[encoded data removed]",
      "text/plain": [
       "<matplotlib.figure.Figure at 0x182b247ac8>"
      ]
     },
     "metadata": {},
     "output_type": "display_data"
    }
   ],
   "source": [
    "plt.imshow(X_train[8].reshape(72, 72), cmap='gray')"
   ]
  },
  {
   "cell_type": "code",
   "execution_count": 133,
   "metadata": {},
   "outputs": [],
   "source": [
    "# Importing the Keras libraries and packages\n",
    "from keras.models import Sequential\n",
    "from keras.layers import Conv2D\n",
    "from keras.layers import MaxPooling2D\n",
    "from keras.layers import Flatten\n",
    "from keras.layers import Dense, Activation\n",
    "from keras.optimizers import SGD"
   ]
  },
  {
   "cell_type": "code",
   "execution_count": 134,
   "metadata": {},
   "outputs": [
    {
     "name": "stdout",
     "output_type": "stream",
     "text": [
      "(300, 72, 72, 1)\n"
     ]
    }
   ],
   "source": [
    "X_train = X_train.reshape(X_train.shape[0], 72, 72, 1)\n",
    "X_train = X_train.astype('float32')\n",
    "print(np.shape(X_train))"
   ]
  },
  {
   "cell_type": "code",
   "execution_count": 135,
   "metadata": {},
   "outputs": [],
   "source": [
    "### Three different normalisation techniques were attempted\n",
    "\n",
    "#g = lambda x: 1 / (1 + np.exp(-x))\n",
    "#Y_train2 = [[g(i) for i in Y_train[j]] for j in range(len(list(Y_train)))]\n",
    "#Y_train2 = [[i/2 for i in Y_train[j]] for j in range(len(list(Y_train)))]\n",
    "#Y_train2 = list([list(Y_train[i]) for i in range(len(list(Y_train)))])\n",
    "#for i in range(len(Y_train)):\n",
    "    #Y_train2[i].append(np.mean([Y_train[i][j] for j in [0, 2, 4]]))\n",
    "    #Y_train2[i].append(np.mean([Y_train[i][j] for j in [1, 3, 5]]))"
   ]
  },
  {
   "cell_type": "code",
   "execution_count": 136,
   "metadata": {},
   "outputs": [
    {
     "name": "stdout",
     "output_type": "stream",
     "text": [
      "(None, 68, 68, 16)\n"
     ]
    }
   ],
   "source": [
    "# build model\n",
    "# convolutional layer\n",
    "model = None\n",
    "model = Sequential()\n",
    "model.add(Conv2D(16, (5, 5), activation='relu', input_shape=(72, 72, 1)))\n",
    "print(model.output_shape)"
   ]
  },
  {
   "cell_type": "code",
   "execution_count": 137,
   "metadata": {},
   "outputs": [
    {
     "name": "stdout",
     "output_type": "stream",
     "text": [
      "(None, 34, 34, 16)\n",
      "(None, 6)\n"
     ]
    }
   ],
   "source": [
    "# pooling layer\n",
    "model.add(MaxPooling2D(pool_size=(2, 2)))\n",
    "print(model.output_shape)\n",
    "# fully connected layer\n",
    "model.add(Flatten())\n",
    "model.add(Dense(6, activation='linear'))\n",
    "print(model.output_shape)"
   ]
  },
  {
   "cell_type": "code",
   "execution_count": 139,
   "metadata": {},
   "outputs": [
    {
     "name": "stdout",
     "output_type": "stream",
     "text": [
      "Epoch 1/50\n",
      "300/300 [==============================] - 1s 4ms/step - loss: 0.3267 - acc: 0.1733\n",
      "Epoch 2/50\n",
      "300/300 [==============================] - 1s 2ms/step - loss: 0.1083 - acc: 0.2033\n",
      "Epoch 3/50\n",
      "300/300 [==============================] - 1s 3ms/step - loss: 0.0773 - acc: 0.3200\n",
      "Epoch 4/50\n",
      "300/300 [==============================] - 1s 4ms/step - loss: 0.0572 - acc: 0.3933\n",
      "Epoch 5/50\n",
      "300/300 [==============================] - 1s 3ms/step - loss: 0.0462 - acc: 0.4233\n",
      "Epoch 6/50\n",
      "300/300 [==============================] - 1s 3ms/step - loss: 0.0373 - acc: 0.5367\n",
      "Epoch 7/50\n",
      "300/300 [==============================] - 1s 3ms/step - loss: 0.0296 - acc: 0.5400\n",
      "Epoch 8/50\n",
      "300/300 [==============================] - 1s 3ms/step - loss: 0.0218 - acc: 0.6200\n",
      "Epoch 9/50\n",
      "300/300 [==============================] - 1s 3ms/step - loss: 0.0169 - acc: 0.6967\n",
      "Epoch 10/50\n",
      "300/300 [==============================] - 1s 3ms/step - loss: 0.0131 - acc: 0.7033\n",
      "Epoch 11/50\n",
      "300/300 [==============================] - 1s 3ms/step - loss: 0.0105 - acc: 0.7500\n",
      "Epoch 12/50\n",
      "300/300 [==============================] - 1s 2ms/step - loss: 0.0084 - acc: 0.7467\n",
      "Epoch 13/50\n",
      "300/300 [==============================] - 1s 3ms/step - loss: 0.0072 - acc: 0.7633\n",
      "Epoch 14/50\n",
      "300/300 [==============================] - 1s 3ms/step - loss: 0.0054 - acc: 0.8133\n",
      "Epoch 15/50\n",
      "300/300 [==============================] - 1s 3ms/step - loss: 0.0043 - acc: 0.8367\n",
      "Epoch 16/50\n",
      "300/300 [==============================] - 1s 3ms/step - loss: 0.0033 - acc: 0.8433\n",
      "Epoch 17/50\n",
      "300/300 [==============================] - 1s 3ms/step - loss: 0.0026 - acc: 0.8867\n",
      "Epoch 18/50\n",
      "300/300 [==============================] - 1s 3ms/step - loss: 0.0021 - acc: 0.8867\n",
      "Epoch 19/50\n",
      "300/300 [==============================] - 1s 3ms/step - loss: 0.0018 - acc: 0.9100\n",
      "Epoch 20/50\n",
      "300/300 [==============================] - 1s 3ms/step - loss: 0.0013 - acc: 0.9100\n",
      "Epoch 21/50\n",
      "300/300 [==============================] - 1s 3ms/step - loss: 0.0011 - acc: 0.9133\n",
      "Epoch 22/50\n",
      "300/300 [==============================] - 1s 3ms/step - loss: 8.3454e-04 - acc: 0.9167\n",
      "Epoch 23/50\n",
      "300/300 [==============================] - 1s 3ms/step - loss: 6.9632e-04 - acc: 0.9133\n",
      "Epoch 24/50\n",
      "300/300 [==============================] - 1s 3ms/step - loss: 5.5378e-04 - acc: 0.9400\n",
      "Epoch 25/50\n",
      "300/300 [==============================] - 1s 2ms/step - loss: 4.6406e-04 - acc: 0.9400\n",
      "Epoch 26/50\n",
      "300/300 [==============================] - 1s 3ms/step - loss: 3.3326e-04 - acc: 0.9600\n",
      "Epoch 27/50\n",
      "300/300 [==============================] - 1s 3ms/step - loss: 2.8215e-04 - acc: 0.9600\n",
      "Epoch 28/50\n",
      "300/300 [==============================] - 1s 3ms/step - loss: 2.1472e-04 - acc: 0.9567\n",
      "Epoch 29/50\n",
      "300/300 [==============================] - 1s 3ms/step - loss: 1.5882e-04 - acc: 0.9767\n",
      "Epoch 30/50\n",
      "300/300 [==============================] - 1s 3ms/step - loss: 1.2168e-04 - acc: 0.9567\n",
      "Epoch 31/50\n",
      "300/300 [==============================] - 1s 3ms/step - loss: 9.0330e-05 - acc: 0.9700\n",
      "Epoch 32/50\n",
      "300/300 [==============================] - 1s 3ms/step - loss: 7.1762e-05 - acc: 0.9767\n",
      "Epoch 33/50\n",
      "300/300 [==============================] - 1s 3ms/step - loss: 5.5805e-05 - acc: 0.9800\n",
      "Epoch 34/50\n",
      "300/300 [==============================] - 1s 2ms/step - loss: 4.3637e-05 - acc: 0.9800\n",
      "Epoch 35/50\n",
      "300/300 [==============================] - 1s 3ms/step - loss: 3.3424e-05 - acc: 0.9833\n",
      "Epoch 36/50\n",
      "300/300 [==============================] - 1s 3ms/step - loss: 2.6848e-05 - acc: 0.9933\n",
      "Epoch 37/50\n",
      "300/300 [==============================] - 1s 4ms/step - loss: 2.1628e-05 - acc: 0.9967\n",
      "Epoch 38/50\n",
      "300/300 [==============================] - 1s 3ms/step - loss: 1.8927e-05 - acc: 0.9967\n",
      "Epoch 39/50\n",
      "300/300 [==============================] - 1s 3ms/step - loss: 1.5389e-05 - acc: 0.9800\n",
      "Epoch 40/50\n",
      "300/300 [==============================] - 1s 3ms/step - loss: 1.2824e-05 - acc: 0.9900\n",
      "Epoch 41/50\n",
      "300/300 [==============================] - 1s 3ms/step - loss: 1.2571e-05 - acc: 0.9900\n",
      "Epoch 42/50\n",
      "300/300 [==============================] - 1s 3ms/step - loss: 1.3032e-05 - acc: 0.9900\n",
      "Epoch 43/50\n",
      "300/300 [==============================] - 1s 3ms/step - loss: 1.5250e-05 - acc: 0.9900\n",
      "Epoch 44/50\n",
      "300/300 [==============================] - 1s 3ms/step - loss: 1.7066e-05 - acc: 0.9900\n",
      "Epoch 45/50\n",
      "300/300 [==============================] - 1s 4ms/step - loss: 1.3750e-05 - acc: 0.9900\n",
      "Epoch 46/50\n",
      "300/300 [==============================] - 1s 3ms/step - loss: 2.3670e-05 - acc: 0.9900\n",
      "Epoch 47/50\n",
      "300/300 [==============================] - 1s 3ms/step - loss: 2.4077e-05 - acc: 0.9867\n",
      "Epoch 48/50\n",
      "300/300 [==============================] - 1s 2ms/step - loss: 2.1012e-05 - acc: 0.9933\n",
      "Epoch 49/50\n",
      "300/300 [==============================] - 1s 2ms/step - loss: 2.0205e-05 - acc: 0.9900\n",
      "Epoch 50/50\n",
      "300/300 [==============================] - 1s 2ms/step - loss: 1.6229e-05 - acc: 0.9800\n"
     ]
    },
    {
     "data": {
      "text/plain": [
       "<keras.callbacks.History at 0x182b41ed68>"
      ]
     },
     "execution_count": 139,
     "metadata": {},
     "output_type": "execute_result"
    }
   ],
   "source": [
    "model.compile(loss='mse', optimizer='adam', metrics=['accuracy'])\n",
    "model.fit(X_train, Y_train, batch_size=32, epochs=50, verbose=1)"
   ]
  },
  {
   "cell_type": "code",
   "execution_count": 140,
   "metadata": {},
   "outputs": [
    {
     "name": "stdout",
     "output_type": "stream",
     "text": [
      "Creating data:\n",
      "0\n",
      "10\n",
      "20\n",
      "30\n",
      "40\n",
      "50\n",
      "60\n",
      "70\n",
      "80\n",
      "90\n",
      "100\n",
      "110\n",
      "120\n",
      "130\n",
      "140\n",
      "150\n",
      "160\n",
      "170\n",
      "180\n",
      "190\n",
      "200\n",
      "210\n",
      "220\n",
      "230\n",
      "240\n",
      "250\n",
      "260\n",
      "270\n",
      "280\n",
      "290\n"
     ]
    }
   ],
   "source": [
    "# Generate test set\n",
    "\n",
    "from keras.utils import np_utils\n",
    "\n",
    "def generate_test_set_regression():\n",
    "    np.random.seed(42)\n",
    "    [X_test, Y_test] = generate_dataset_regression(300, 20)\n",
    "    #Y_test = np_utils.to_categorical(Y_test, 3)\n",
    "    return [X_test, Y_test]\n",
    "\n",
    "(X_test, Y_test) = generate_test_set_regression()"
   ]
  },
  {
   "cell_type": "code",
   "execution_count": 141,
   "metadata": {},
   "outputs": [],
   "source": [
    "X_test = X_test.reshape(X_train.shape[0], 72, 72, 1)\n",
    "X_test = X_test.astype('float32')\n",
    "\n",
    "### Three different normalisation techniques were attempted\n",
    "\n",
    "## Dividing by 2\n",
    "# Y_test2 = [[i/2 for i in Y_test[j]] for j in range(len(list(Y_test)))]\n",
    "\n",
    "## With logit\n",
    "#Y_test2 = [[g(i) for i in Y_test[j]] for j in range(len(list(Y_test)))]\n",
    "\n",
    "## With centre of gravity\n",
    "#Y_test2 = list([list(Y_test[i]) for i in range(len(list(Y_test)))])\n",
    "#for i in range(len(Y_test)):\n",
    "    #Y_test2[i].append(np.mean([Y_test[i][j] for j in [0, 2, 4]]))\n",
    "    #Y_test2[i].append(np.mean([Y_test[i][j] for j in [1, 3, 5]]))"
   ]
  },
  {
   "cell_type": "code",
   "execution_count": 143,
   "metadata": {},
   "outputs": [
    {
     "data": {
      "text/plain": [
       "[0.090689639647801717, 0.23333333333333334]"
      ]
     },
     "execution_count": 143,
     "metadata": {},
     "output_type": "execute_result"
    }
   ],
   "source": [
    "# This will show our loss and accuracy scores\n",
    "Y_pred = model.predict(X_test)\n",
    "score = model.evaluate(X_test, Y_test, verbose=0)\n",
    "score"
   ]
  },
  {
   "cell_type": "code",
   "execution_count": null,
   "metadata": {},
   "outputs": [],
   "source": [
    "# refit coordinates to original format in the case where we use logit\n",
    "# h = lambda x: np.log(x/(1-x)) \n",
    "# Y_pred = [[h(i) for i in Y_pred[j]] for j in range(len(list(Y_pred)))]"
   ]
  },
  {
   "cell_type": "markdown",
   "metadata": {},
   "source": [
    "Three normalisation methods were used: applying logit (g = lambda x: 1 / (1 + np.exp(-x))) to the target coordinates, as well as dividing all the coordinates by two, and, lastly, adding the centre of gravity coordinates.\n",
    "The last method seems to work best, although no signifcant difference were seen between any of the methods including the case where no normalisation was used."
   ]
  },
  {
   "cell_type": "code",
   "execution_count": null,
   "metadata": {},
   "outputs": [],
   "source": []
  }
 ],
 "metadata": {
  "kernelspec": {
   "display_name": "Python 3",
   "language": "python",
   "name": "python3"
  },
  "language_info": {
   "codemirror_mode": {
    "name": "ipython",
    "version": 3
   },
   "file_extension": ".py",
   "mimetype": "text/x-python",
   "name": "python",
   "nbconvert_exporter": "python",
   "pygments_lexer": "ipython3",
   "version": "3.6.4"
  }
 },
 "nbformat": 4,
 "nbformat_minor": 2
}
