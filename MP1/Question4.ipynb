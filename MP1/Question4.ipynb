{
 "cells": [
  {
   "cell_type": "markdown",
   "metadata": {},
   "source": [
    "# Question 4"
   ]
  },
  {
   "cell_type": "code",
   "execution_count": 1,
   "metadata": {},
   "outputs": [
    {
     "data": {
      "image/png": "[encoded data removed]",
      "text/plain": [
       "<matplotlib.figure.Figure at 0x10fd76320>"
      ]
     },
     "metadata": {},
     "output_type": "display_data"
    }
   ],
   "source": [
    "# preliminary code\n",
    "\n",
    "import matplotlib.pyplot as plt\n",
    "%matplotlib inline\n",
    "import numpy as np\n",
    "\n",
    "def generate_a_drawing(figsize, U, V, noise=0.0):\n",
    "    fig = plt.figure(figsize=(figsize,figsize))\n",
    "    ax = plt.subplot(111)\n",
    "    plt.axis('Off')\n",
    "    ax.set_xlim(0,figsize)\n",
    "    ax.set_ylim(0,figsize)\n",
    "    ax.fill(U, V, \"k\")\n",
    "    fig.canvas.draw()\n",
    "    imdata = np.frombuffer(fig.canvas.tostring_rgb(), dtype=np.uint8)[::3].astype(np.float32)\n",
    "    imdata = imdata + noise * np.random.random(imdata.size)\n",
    "    plt.close(fig)\n",
    "    return imdata\n",
    "\n",
    "def generate_a_rectangle(noise=0.0, free_location=False):\n",
    "    figsize = 1.0\n",
    "    U = np.zeros(4)\n",
    "    V = np.zeros(4)\n",
    "    if free_location:\n",
    "        corners = np.random.random(4)\n",
    "        top = max(corners[0], corners[1])\n",
    "        bottom = min(corners[0], corners[1])\n",
    "        left = min(corners[2], corners[3])\n",
    "        right = max(corners[2], corners[3])\n",
    "    else:\n",
    "        side = (0.3 + 0.7 * np.random.random()) * figsize\n",
    "        top = figsize/2 + side/2\n",
    "        bottom = figsize/2 - side/2\n",
    "        left = bottom\n",
    "        right = top\n",
    "    U[0] = U[1] = top\n",
    "    U[2] = U[3] = bottom\n",
    "    V[0] = V[3] = left\n",
    "    V[1] = V[2] = right\n",
    "    return generate_a_drawing(figsize, U, V, noise)\n",
    "\n",
    "\n",
    "def generate_a_disk(noise=0.0, free_location=False):\n",
    "    figsize = 1.0\n",
    "    if free_location:\n",
    "        center = np.random.random(2)\n",
    "    else:\n",
    "        center = (figsize/2, figsize/2)\n",
    "    radius = (0.3 + 0.7 * np.random.random()) * figsize/2\n",
    "    N = 50\n",
    "    U = np.zeros(N)\n",
    "    V = np.zeros(N)\n",
    "    i = 0\n",
    "    for t in np.linspace(0, 2*np.pi, N):\n",
    "        U[i] = center[0] + np.cos(t) * radius\n",
    "        V[i] = center[1] + np.sin(t) * radius\n",
    "        i = i + 1\n",
    "    return generate_a_drawing(figsize, U, V, noise)\n",
    "\n",
    "def generate_a_triangle(noise=0.0, free_location=False):\n",
    "    figsize = 1.0\n",
    "    if free_location:\n",
    "        U = np.random.random(3)\n",
    "        V = np.random.random(3)\n",
    "    else:\n",
    "        size = (0.3 + 0.7 * np.random.random())*figsize/2\n",
    "        middle = figsize/2\n",
    "        U = (middle, middle+size, middle-size)\n",
    "        V = (middle+size, middle-size, middle-size)\n",
    "    imdata = generate_a_drawing(figsize, U, V, noise)\n",
    "    return [imdata, [U[0], V[0], U[1], V[1], U[2], V[2]]]\n",
    "\n",
    "\n",
    "im = generate_a_rectangle(10, True)\n",
    "plt.imshow(im.reshape(72, 72), cmap='gray')\n",
    "\n",
    "\n",
    "im = generate_a_disk(10)\n",
    "plt.imshow(im.reshape(72, 72), cmap='gray')\n",
    "\n",
    "[im, v] = generate_a_triangle(20, False)\n",
    "plt.imshow(im.reshape(72, 72), cmap='gray')\n",
    "\n",
    "\n",
    "def generate_dataset_classification(nb_samples, noise=0.0, free_location=False):\n",
    "    # Getting im_size:\n",
    "    im_size = generate_a_rectangle().shape[0]\n",
    "    X = np.zeros([nb_samples,im_size])\n",
    "    Y = np.zeros(nb_samples)\n",
    "    print('Creating data:')\n",
    "    for i in range(nb_samples):\n",
    "        if i % 10 == 0:\n",
    "            print(i)\n",
    "        category = np.random.randint(3)\n",
    "        if category == 0:\n",
    "            X[i] = generate_a_rectangle(noise, free_location)\n",
    "        elif category == 1:\n",
    "            X[i] = generate_a_disk(noise, free_location)\n",
    "        else:\n",
    "            [X[i], V] = generate_a_triangle(noise, free_location)\n",
    "        Y[i] = category\n",
    "    X = (X + noise) / (255 + 2 * noise)\n",
    "    return [X, Y]\n",
    "\n",
    "def generate_test_set_classification():\n",
    "    np.random.seed(42)\n",
    "    [X_test, Y_test] = generate_dataset_classification(300, 20, True)\n",
    "    Y_test = np_utils.to_categorical(Y_test, 3)\n",
    "    return [X_test, Y_test]\n",
    "\n",
    "def generate_dataset_regression(nb_samples, noise=0.0):\n",
    "    # Getting im_size:\n",
    "    im_size = generate_a_triangle()[0].shape[0]\n",
    "    X = np.zeros([nb_samples,im_size])\n",
    "    Y = np.zeros([nb_samples, 6])\n",
    "    print('Creating data:')\n",
    "    for i in range(nb_samples):\n",
    "        if i % 10 == 0:\n",
    "            print(i)\n",
    "        [X[i], Y[i]] = generate_a_triangle(noise, True)\n",
    "    X = (X + noise) / (255 + 2 * noise)\n",
    "    return [X, Y]\n",
    "\n",
    "import matplotlib.patches as patches\n",
    "\n",
    "def visualize_prediction(x, y):\n",
    "    fig, ax = plt.subplots(figsize=(5, 5))\n",
    "    I = x.reshape((72,72))\n",
    "    ax.imshow(I, extent=[-0.15,1.15,-0.15,1.15],cmap='gray')\n",
    "    ax.set_xlim([0,1])\n",
    "    ax.set_ylim([0,1])\n",
    "\n",
    "    xy = y.reshape(3,2)\n",
    "    tri = patches.Polygon(xy, closed=True, fill = False, edgecolor = 'r', linewidth = 5, alpha = 0.5)\n",
    "    ax.add_patch(tri)\n",
    "\n",
    "    plt.show()\n",
    "\n",
    "def generate_test_set_regression():\n",
    "    np.random.seed(42)\n",
    "    [X_test, Y_test] = generate_dataset_regression(300, 20)\n",
    "    Y_test = np_utils.to_categorical(Y_test, 3)\n",
    "    return [X_test, Y_test]\n"
   ]
  },
  {
   "cell_type": "code",
   "execution_count": 2,
   "metadata": {},
   "outputs": [
    {
     "name": "stderr",
     "output_type": "stream",
     "text": [
      "Using TensorFlow backend.\n",
      "/Users/Jean/anaconda3/lib/python3.6/importlib/_bootstrap.py:219: RuntimeWarning: compiletime version 3.5 of module 'tensorflow.python.framework.fast_tensor_util' does not match runtime version 3.6\n",
      "  return f(*args, **kwds)\n"
     ]
    }
   ],
   "source": [
    "# Importing the Keras libraries and packages\n",
    "from keras.models import Sequential\n",
    "from keras.layers import Conv2D\n",
    "from keras.layers import MaxPooling2D\n",
    "from keras.layers import Flatten\n",
    "from keras.layers import Dense, Activation\n",
    "from keras.optimizers import SGD"
   ]
  },
  {
   "cell_type": "code",
   "execution_count": 4,
   "metadata": {},
   "outputs": [
    {
     "name": "stdout",
     "output_type": "stream",
     "text": [
      "Creating data:\n",
      "0\n",
      "10\n",
      "20\n",
      "30\n",
      "40\n",
      "50\n",
      "60\n",
      "70\n",
      "80\n",
      "90\n",
      "100\n",
      "110\n",
      "120\n",
      "130\n",
      "140\n",
      "150\n",
      "160\n",
      "170\n",
      "180\n",
      "190\n",
      "200\n",
      "210\n",
      "220\n",
      "230\n",
      "240\n",
      "250\n",
      "260\n",
      "270\n",
      "280\n",
      "290\n"
     ]
    }
   ],
   "source": [
    "# generate training data\n",
    "[X_train, Y_train] = generate_dataset_classification(300, 20, True)"
   ]
  },
  {
   "cell_type": "code",
   "execution_count": 14,
   "metadata": {},
   "outputs": [],
   "source": [
    "# Format\n",
    "from keras.utils import np_utils\n",
    "Y_train = np_utils.to_categorical(Y_train, 3)"
   ]
  },
  {
   "cell_type": "code",
   "execution_count": 5,
   "metadata": {},
   "outputs": [],
   "source": [
    "X_train = X_train.reshape(X_train.shape[0], 72, 72, 1)\n",
    "X_train = X_train.astype('float32')"
   ]
  },
  {
   "cell_type": "code",
   "execution_count": 8,
   "metadata": {},
   "outputs": [
    {
     "name": "stdout",
     "output_type": "stream",
     "text": [
      "Creating data:\n",
      "0\n",
      "10\n",
      "20\n",
      "30\n",
      "40\n",
      "50\n",
      "60\n",
      "70\n",
      "80\n",
      "90\n",
      "100\n",
      "110\n",
      "120\n",
      "130\n",
      "140\n",
      "150\n",
      "160\n",
      "170\n",
      "180\n",
      "190\n",
      "200\n",
      "210\n",
      "220\n",
      "230\n",
      "240\n",
      "250\n",
      "260\n",
      "270\n",
      "280\n",
      "290\n"
     ]
    }
   ],
   "source": [
    "# create X_test\n",
    "(X_test, Y_test) = generate_test_set_classification()"
   ]
  },
  {
   "cell_type": "code",
   "execution_count": 9,
   "metadata": {},
   "outputs": [
    {
     "data": {
      "text/plain": [
       "(300, 72, 72, 1)"
      ]
     },
     "execution_count": 9,
     "metadata": {},
     "output_type": "execute_result"
    }
   ],
   "source": [
    "# format\n",
    "X_test = X_test.reshape(X_test.shape[0], 72, 72, 1)\n",
    "X_test = X_test.astype('float32')\n",
    "np.shape(X_test)"
   ]
  },
  {
   "cell_type": "code",
   "execution_count": 10,
   "metadata": {},
   "outputs": [
    {
     "name": "stdout",
     "output_type": "stream",
     "text": [
      "(None, 68, 68, 16)\n"
     ]
    }
   ],
   "source": [
    "### build CNN model\n",
    "\n",
    "# convolutional layer\n",
    "from keras.layers import Conv1D\n",
    "from keras.layers import MaxPooling1D\n",
    "model = None\n",
    "model = Sequential()\n",
    "model.add(Conv2D(16, (5, 5), activation='relu', input_shape=(72, 72, 1)))\n",
    "print(model.output_shape)"
   ]
  },
  {
   "cell_type": "code",
   "execution_count": 11,
   "metadata": {},
   "outputs": [
    {
     "name": "stdout",
     "output_type": "stream",
     "text": [
      "(None, 34, 34, 16)\n",
      "(None, 3)\n"
     ]
    }
   ],
   "source": [
    "# pooling layer\n",
    "model.add(MaxPooling2D(pool_size=(2, 2)))\n",
    "print(model.output_shape)\n",
    "# fully connected layer\n",
    "model.add(Flatten())\n",
    "model.add(Dense(3, activation='softmax'))\n",
    "print(model.output_shape)"
   ]
  },
  {
   "cell_type": "code",
   "execution_count": 12,
   "metadata": {},
   "outputs": [
    {
     "data": {
      "text/plain": [
       "(300, 72, 72, 1)"
      ]
     },
     "execution_count": 12,
     "metadata": {},
     "output_type": "execute_result"
    }
   ],
   "source": [
    "X_train.shape"
   ]
  },
  {
   "cell_type": "code",
   "execution_count": 15,
   "metadata": {},
   "outputs": [
    {
     "name": "stdout",
     "output_type": "stream",
     "text": [
      "Epoch 1/50\n",
      "300/300 [==============================] - 1s 4ms/step - loss: 1.4015 - acc: 0.2900\n",
      "Epoch 2/50\n",
      "300/300 [==============================] - 1s 2ms/step - loss: 0.9775 - acc: 0.6400\n",
      "Epoch 3/50\n",
      "300/300 [==============================] - 1s 2ms/step - loss: 0.8504 - acc: 0.6900\n",
      "Epoch 4/50\n",
      "300/300 [==============================] - 1s 2ms/step - loss: 0.7500 - acc: 0.7700\n",
      "Epoch 5/50\n",
      "300/300 [==============================] - 1s 2ms/step - loss: 0.6625 - acc: 0.7867\n",
      "Epoch 6/50\n",
      "300/300 [==============================] - 1s 2ms/step - loss: 0.6155 - acc: 0.8033\n",
      "Epoch 7/50\n",
      "300/300 [==============================] - 1s 2ms/step - loss: 0.5623 - acc: 0.8000\n",
      "Epoch 8/50\n",
      "300/300 [==============================] - 1s 3ms/step - loss: 0.5533 - acc: 0.7900\n",
      "Epoch 9/50\n",
      "300/300 [==============================] - 1s 3ms/step - loss: 0.5137 - acc: 0.8433\n",
      "Epoch 10/50\n",
      "300/300 [==============================] - 1s 4ms/step - loss: 0.4624 - acc: 0.8533\n",
      "Epoch 11/50\n",
      "300/300 [==============================] - 1s 3ms/step - loss: 0.4387 - acc: 0.8567\n",
      "Epoch 12/50\n",
      "300/300 [==============================] - 1s 2ms/step - loss: 0.4082 - acc: 0.8633\n",
      "Epoch 13/50\n",
      "300/300 [==============================] - 1s 2ms/step - loss: 0.3742 - acc: 0.9133\n",
      "Epoch 14/50\n",
      "300/300 [==============================] - 1s 3ms/step - loss: 0.3455 - acc: 0.9267\n",
      "Epoch 15/50\n",
      "300/300 [==============================] - 1s 3ms/step - loss: 0.3288 - acc: 0.9233\n",
      "Epoch 16/50\n",
      "300/300 [==============================] - 1s 3ms/step - loss: 0.2952 - acc: 0.9433\n",
      "Epoch 17/50\n",
      "300/300 [==============================] - 1s 3ms/step - loss: 0.3044 - acc: 0.9200\n",
      "Epoch 18/50\n",
      "300/300 [==============================] - 1s 3ms/step - loss: 0.2776 - acc: 0.9467\n",
      "Epoch 19/50\n",
      "300/300 [==============================] - 1s 3ms/step - loss: 0.2596 - acc: 0.9700\n",
      "Epoch 20/50\n",
      "300/300 [==============================] - 1s 2ms/step - loss: 0.2423 - acc: 0.9600\n",
      "Epoch 21/50\n",
      "300/300 [==============================] - 1s 3ms/step - loss: 0.2494 - acc: 0.9567\n",
      "Epoch 22/50\n",
      "300/300 [==============================] - 1s 3ms/step - loss: 0.2111 - acc: 0.9633\n",
      "Epoch 23/50\n",
      "300/300 [==============================] - 1s 3ms/step - loss: 0.1971 - acc: 0.9767\n",
      "Epoch 24/50\n",
      "300/300 [==============================] - 1s 2ms/step - loss: 0.1915 - acc: 0.9800\n",
      "Epoch 25/50\n",
      "300/300 [==============================] - 1s 3ms/step - loss: 0.1814 - acc: 0.9767\n",
      "Epoch 26/50\n",
      "300/300 [==============================] - 1s 3ms/step - loss: 0.1691 - acc: 0.9867\n",
      "Epoch 27/50\n",
      "300/300 [==============================] - 1s 2ms/step - loss: 0.1747 - acc: 0.9733\n",
      "Epoch 28/50\n",
      "300/300 [==============================] - 1s 2ms/step - loss: 0.1478 - acc: 0.9833\n",
      "Epoch 29/50\n",
      "300/300 [==============================] - 1s 2ms/step - loss: 0.1405 - acc: 0.9867\n",
      "Epoch 30/50\n",
      "300/300 [==============================] - 1s 3ms/step - loss: 0.1303 - acc: 0.9900\n",
      "Epoch 31/50\n",
      "300/300 [==============================] - 1s 2ms/step - loss: 0.1259 - acc: 0.9933\n",
      "Epoch 32/50\n",
      "300/300 [==============================] - 1s 2ms/step - loss: 0.1142 - acc: 0.9900\n",
      "Epoch 33/50\n",
      "300/300 [==============================] - 1s 3ms/step - loss: 0.1146 - acc: 0.9933\n",
      "Epoch 34/50\n",
      "300/300 [==============================] - 1s 2ms/step - loss: 0.1130 - acc: 0.9900\n",
      "Epoch 35/50\n",
      "300/300 [==============================] - 1s 3ms/step - loss: 0.1042 - acc: 0.9900\n",
      "Epoch 36/50\n",
      "300/300 [==============================] - 1s 3ms/step - loss: 0.1005 - acc: 0.9867\n",
      "Epoch 37/50\n",
      "300/300 [==============================] - 1s 3ms/step - loss: 0.1102 - acc: 0.9900\n",
      "Epoch 38/50\n",
      "300/300 [==============================] - 1s 3ms/step - loss: 0.1048 - acc: 0.9900\n",
      "Epoch 39/50\n",
      "300/300 [==============================] - 1s 2ms/step - loss: 0.0868 - acc: 0.9933\n",
      "Epoch 40/50\n",
      "300/300 [==============================] - 1s 2ms/step - loss: 0.0824 - acc: 0.9933\n",
      "Epoch 41/50\n",
      "300/300 [==============================] - 1s 2ms/step - loss: 0.0813 - acc: 0.9967\n",
      "Epoch 42/50\n",
      "300/300 [==============================] - 1s 2ms/step - loss: 0.0782 - acc: 0.9933\n",
      "Epoch 43/50\n",
      "300/300 [==============================] - 1s 3ms/step - loss: 0.0746 - acc: 0.9933\n",
      "Epoch 44/50\n",
      "300/300 [==============================] - 1s 3ms/step - loss: 0.0663 - acc: 1.0000\n",
      "Epoch 45/50\n",
      "300/300 [==============================] - 1s 3ms/step - loss: 0.0612 - acc: 0.9967\n",
      "Epoch 46/50\n",
      "300/300 [==============================] - 1s 3ms/step - loss: 0.0560 - acc: 1.0000\n",
      "Epoch 47/50\n",
      "300/300 [==============================] - 1s 3ms/step - loss: 0.0546 - acc: 0.9967\n",
      "Epoch 48/50\n",
      "300/300 [==============================] - 1s 2ms/step - loss: 0.0530 - acc: 1.0000\n",
      "Epoch 49/50\n",
      "300/300 [==============================] - 1s 2ms/step - loss: 0.0491 - acc: 1.0000\n",
      "Epoch 50/50\n",
      "300/300 [==============================] - 1s 3ms/step - loss: 0.0494 - acc: 1.0000\n"
     ]
    },
    {
     "data": {
      "text/plain": [
       "<keras.callbacks.History at 0x182ca34e80>"
      ]
     },
     "execution_count": 15,
     "metadata": {},
     "output_type": "execute_result"
    }
   ],
   "source": [
    "model.compile(loss='categorical_crossentropy', optimizer='adam', metrics=['accuracy'])\n",
    "model.fit(X_train, Y_train, batch_size=32, epochs=50, verbose=1)"
   ]
  },
  {
   "cell_type": "code",
   "execution_count": 17,
   "metadata": {},
   "outputs": [
    {
     "data": {
      "text/plain": [
       "[0.72219189961751307, 0.72666666666666668]"
      ]
     },
     "execution_count": 17,
     "metadata": {},
     "output_type": "execute_result"
    }
   ],
   "source": [
    "Y_pred = model.predict(X_test)\n",
    "score = model.evaluate(X_test, Y_test, verbose=0)\n",
    "score"
   ]
  },
  {
   "cell_type": "markdown",
   "metadata": {},
   "source": [
    "We have an accuracy of 0.72 applying our model to the test set which is lower than the 100% achieved in training\n",
    "but this would be expected in testing."
   ]
  },
  {
   "cell_type": "code",
   "execution_count": null,
   "metadata": {},
   "outputs": [],
   "source": []
  }
 ],
 "metadata": {
  "kernelspec": {
   "display_name": "Python 3",
   "language": "python",
   "name": "python3"
  },
  "language_info": {
   "codemirror_mode": {
    "name": "ipython",
    "version": 3
   },
   "file_extension": ".py",
   "mimetype": "text/x-python",
   "name": "python",
   "nbconvert_exporter": "python",
   "pygments_lexer": "ipython3",
   "version": "3.6.4"
  }
 },
 "nbformat": 4,
 "nbformat_minor": 2
}
